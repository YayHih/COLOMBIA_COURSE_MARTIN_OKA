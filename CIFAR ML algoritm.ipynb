{
 "cells": [
  {
   "cell_type": "code",
   "execution_count": 5,
   "metadata": {},
   "outputs": [
    {
     "name": "stdout",
     "output_type": "stream",
     "text": [
      "Downloading data from https://www.cs.toronto.edu/~kriz/cifar-10-python.tar.gz\n",
      "170500096/170498071 [==============================] - 8s 0us/step\n"
     ]
    }
   ],
   "source": [
    "#Just wanna give a shout out to Towards Data Science who's website helped me instal tensor flow and hel with the machine learning alogrithm.\n",
    "import tensorflow as tf\n",
    "import matplotlib.pyplot as plt\n",
    "from tensorflow.keras.datasets import cifar10\n",
    "# setting class names\n",
    "class_names=['airplane','automobile','bird','cat','deer','dog','frog','horse','ship','truck']\n",
    "#loading the dataset\n",
    "(x_train,y_train),(x_test,y_test)=cifar10.load_data()"
   ]
  },
  {
   "cell_type": "code",
   "execution_count": 6,
   "metadata": {},
   "outputs": [
    {
     "data": {
      "text/plain": [
       "(50000, 32, 32, 3)"
      ]
     },
     "execution_count": 6,
     "metadata": {},
     "output_type": "execute_result"
    }
   ],
   "source": [
    "x_train=x_train/255.0\n",
    "x_train.shape"
   ]
  },
  {
   "cell_type": "code",
   "execution_count": 7,
   "metadata": {},
   "outputs": [
    {
     "data": {
      "text/plain": [
       "(10000, 32, 32, 3)"
      ]
     },
     "execution_count": 7,
     "metadata": {},
     "output_type": "execute_result"
    }
   ],
   "source": [
    "x_test=x_test/255.0\n",
    "x_test.shape"
   ]
  },
  {
   "cell_type": "code",
   "execution_count": 8,
   "metadata": {},
   "outputs": [
    {
     "data": {
      "text/plain": [
       "<matplotlib.image.AxesImage at 0x18a8178e4f0>"
      ]
     },
     "execution_count": 8,
     "metadata": {},
     "output_type": "execute_result"
    },
    {
     "data": {
      "image/png": "[encoded data removed]",
      "text/plain": [
       "<Figure size 432x288 with 1 Axes>"
      ]
     },
     "metadata": {
      "needs_background": "light"
     },
     "output_type": "display_data"
    }
   ],
   "source": [
    "plt.imshow(x_test[654])"
   ]
  },
  {
   "cell_type": "code",
   "execution_count": 9,
   "metadata": {},
   "outputs": [
    {
     "name": "stdout",
     "output_type": "stream",
     "text": [
      "Model: \"sequential\"\n",
      "_________________________________________________________________\n",
      "Layer (type)                 Output Shape              Param #   \n",
      "=================================================================\n",
      "conv2d (Conv2D)              (None, 32, 32, 32)        896       \n",
      "_________________________________________________________________\n",
      "conv2d_1 (Conv2D)            (None, 32, 32, 32)        9248      \n",
      "_________________________________________________________________\n",
      "max_pooling2d (MaxPooling2D) (None, 16, 16, 32)        0         \n",
      "_________________________________________________________________\n",
      "conv2d_2 (Conv2D)            (None, 16, 16, 64)        18496     \n",
      "_________________________________________________________________\n",
      "conv2d_3 (Conv2D)            (None, 16, 16, 64)        36928     \n",
      "_________________________________________________________________\n",
      "max_pooling2d_1 (MaxPooling2 (None, 8, 8, 64)          0         \n",
      "_________________________________________________________________\n",
      "flatten (Flatten)            (None, 4096)              0         \n",
      "_________________________________________________________________\n",
      "dropout (Dropout)            (None, 4096)              0         \n",
      "_________________________________________________________________\n",
      "dense (Dense)                (None, 128)               524416    \n",
      "_________________________________________________________________\n",
      "dense_1 (Dense)              (None, 10)                1290      \n",
      "=================================================================\n",
      "Total params: 591,274\n",
      "Trainable params: 591,274\n",
      "Non-trainable params: 0\n",
      "_________________________________________________________________\n"
     ]
    }
   ],
   "source": [
    "cifar10_model=tf.keras.models.Sequential()\n",
    "# First Layer\n",
    "cifar10_model.add(tf.keras.layers.Conv2D(filters=32,kernel_size=3,padding=\"same\", activation=\"relu\", input_shape=[32,32,3]))\n",
    "# Second Layer\n",
    "cifar10_model.add(tf.keras.layers.Conv2D(filters=32,kernel_size=3,padding=\"same\", activation=\"relu\"))\n",
    "# Max Pooling Layer\n",
    "cifar10_model.add(tf.keras.layers.MaxPool2D(pool_size=2,strides=2,padding='valid'))\n",
    "# Third Layer\n",
    "cifar10_model.add(tf.keras.layers.Conv2D(filters=64,kernel_size=3,padding=\"same\", activation=\"relu\"))\n",
    "# Fourth Layer\n",
    "cifar10_model.add(tf.keras.layers.Conv2D(filters=64,kernel_size=3,padding=\"same\", activation=\"relu\"))\n",
    "# Max Pooling Layer\n",
    "cifar10_model.add(tf.keras.layers.MaxPool2D(pool_size=2,strides=2,padding='valid'))\n",
    "# Flattening Layer\n",
    "cifar10_model.add(tf.keras.layers.Flatten())\n",
    "# Droput Layer\n",
    "cifar10_model.add(tf.keras.layers.Dropout(0.5,noise_shape=None,seed=None))\n",
    "# Adding the first fully connected layer\n",
    "cifar10_model.add(tf.keras.layers.Dense(units=128,activation='relu'))\n",
    "# Output Layer\n",
    "cifar10_model.add(tf.keras.layers.Dense(units=10,activation='softmax'))\n",
    "\n",
    "cifar10_model.summary()"
   ]
  },
  {
   "cell_type": "code",
   "execution_count": 10,
   "metadata": {},
   "outputs": [],
   "source": [
    "cifar10_model.compile(loss=\"sparse_categorical_crossentropy\", optimizer=\"Adam\", metrics=[\"sparse_categorical_accuracy\"])"
   ]
  },
  {
   "cell_type": "code",
   "execution_count": 11,
   "metadata": {},
   "outputs": [
    {
     "name": "stdout",
     "output_type": "stream",
     "text": [
      "Epoch 1/15\n",
      "1563/1563 [==============================] - 76s 49ms/step - loss: 1.6657 - sparse_categorical_accuracy: 0.3889\n",
      "Epoch 2/15\n",
      "1563/1563 [==============================] - 74s 47ms/step - loss: 1.0588 - sparse_categorical_accuracy: 0.6234\n",
      "Epoch 3/15\n",
      "1563/1563 [==============================] - 75s 48ms/step - loss: 0.8779 - sparse_categorical_accuracy: 0.6907\n",
      "Epoch 4/15\n",
      "1563/1563 [==============================] - 77s 49ms/step - loss: 0.7748 - sparse_categorical_accuracy: 0.7255\n",
      "Epoch 5/15\n",
      "1563/1563 [==============================] - 80s 51ms/step - loss: 0.6994 - sparse_categorical_accuracy: 0.7513\n",
      "Epoch 6/15\n",
      "1563/1563 [==============================] - 77s 49ms/step - loss: 0.6316 - sparse_categorical_accuracy: 0.7761\n",
      "Epoch 7/15\n",
      "1563/1563 [==============================] - 76s 48ms/step - loss: 0.5928 - sparse_categorical_accuracy: 0.7907\n",
      "Epoch 8/15\n",
      "1563/1563 [==============================] - 74s 47ms/step - loss: 0.5442 - sparse_categorical_accuracy: 0.8058\n",
      "Epoch 9/15\n",
      "1563/1563 [==============================] - 74s 47ms/step - loss: 0.5123 - sparse_categorical_accuracy: 0.8178\n",
      "Epoch 10/15\n",
      "1563/1563 [==============================] - 73s 47ms/step - loss: 0.4781 - sparse_categorical_accuracy: 0.8299\n",
      "Epoch 11/15\n",
      "1563/1563 [==============================] - 75s 48ms/step - loss: 0.4607 - sparse_categorical_accuracy: 0.8346\n",
      "Epoch 12/15\n",
      "1563/1563 [==============================] - 73s 47ms/step - loss: 0.4316 - sparse_categorical_accuracy: 0.8448\n",
      "Epoch 13/15\n",
      "1563/1563 [==============================] - 73s 47ms/step - loss: 0.4219 - sparse_categorical_accuracy: 0.8476\n",
      "Epoch 14/15\n",
      "1563/1563 [==============================] - 74s 47ms/step - loss: 0.3939 - sparse_categorical_accuracy: 0.8622\n",
      "Epoch 15/15\n",
      "1563/1563 [==============================] - 76s 48ms/step - loss: 0.3709 - sparse_categorical_accuracy: 0.8671\n"
     ]
    },
    {
     "data": {
      "text/plain": [
       "<tensorflow.python.keras.callbacks.History at 0x18a81df1d30>"
      ]
     },
     "execution_count": 11,
     "metadata": {},
     "output_type": "execute_result"
    }
   ],
   "source": [
    "\n",
    "cifar10_model.fit(x_train,y_train,epochs=15)"
   ]
  },
  {
   "cell_type": "code",
   "execution_count": 12,
   "metadata": {},
   "outputs": [
    {
     "name": "stdout",
     "output_type": "stream",
     "text": [
      "Num GPUs Available:  0\n"
     ]
    }
   ],
   "source": []
  },
  {
   "cell_type": "code",
   "execution_count": null,
   "metadata": {},
   "outputs": [],
   "source": []
  }
 ],
 "metadata": {
  "kernelspec": {
   "display_name": "Python 3",
   "language": "python",
   "name": "python3"
  },
  "language_info": {
   "codemirror_mode": {
    "name": "ipython",
    "version": 3
   },
   "file_extension": ".py",
   "mimetype": "text/x-python",
   "name": "python",
   "nbconvert_exporter": "python",
   "pygments_lexer": "ipython3",
   "version": "3.8.5"
  }
 },
 "nbformat": 4,
 "nbformat_minor": 4
}
